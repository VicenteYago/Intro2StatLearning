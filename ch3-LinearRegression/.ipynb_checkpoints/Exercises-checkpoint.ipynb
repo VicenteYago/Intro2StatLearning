{
 "cells": [
  {
   "cell_type": "markdown",
   "id": "assigned-metropolitan",
   "metadata": {},
   "source": [
    "# 1 \n"
   ]
  },
  {
   "cell_type": "markdown",
   "id": "patient-sampling",
   "metadata": {},
   "source": [
    "\n",
    "**Describe the null hypotheses to which the p-values given in Table 3.4 correspond. Explain what conclusions you can draw based on these p-values. Your explanation should be phrased in terms on sales, TV, radio, and newspaper, rather than in terms o the coefficients of the linear model.**"
   ]
  },
  {
   "cell_type": "markdown",
   "id": "iraqi-issue",
   "metadata": {},
   "source": [
    "\n",
    "<img src=\"../images/table3_4.jpeg\">"
   ]
  },
  {
   "cell_type": "markdown",
   "id": "encouraging-contributor",
   "metadata": {},
   "source": [
    "The null hypotheses is defined as follows:\n"
   ]
  },
  {
   "cell_type": "markdown",
   "id": "religious-archive",
   "metadata": {},
   "source": [
    "$$\n",
    "H_0 : \\beta_1 = \\beta_2 = \\beta_3 = 0 \n",
    "$$"
   ]
  }
 ],
 "metadata": {
  "kernelspec": {
   "display_name": "R",
   "language": "R",
   "name": "ir"
  },
  "language_info": {
   "codemirror_mode": "r",
   "file_extension": ".r",
   "mimetype": "text/x-r-source",
   "name": "R",
   "pygments_lexer": "r",
   "version": "3.6.1"
  }
 },
 "nbformat": 4,
 "nbformat_minor": 5
}
