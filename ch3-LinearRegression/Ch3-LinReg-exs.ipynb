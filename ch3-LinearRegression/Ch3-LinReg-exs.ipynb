{
 "cells": [
  {
   "cell_type": "markdown",
   "id": "assigned-metropolitan",
   "metadata": {},
   "source": [
    "# 1 \n"
   ]
  },
  {
   "cell_type": "markdown",
   "id": "patient-sampling",
   "metadata": {},
   "source": [
    "\n",
    "**Describe the null hypotheses to which the p-values given in Table 3.4 correspond. Explain what conclusions you can draw based on these p-values. Your explanation should be phrased in terms on sales, TV, radio, and newspaper, rather than in terms o the coefficients of the linear model.**"
   ]
  },
  {
   "cell_type": "markdown",
   "id": "iraqi-issue",
   "metadata": {},
   "source": [
    "\n",
    "<img src=\"./images/table3_4.jpeg\">"
   ]
  },
  {
   "cell_type": "markdown",
   "id": "encouraging-contributor",
   "metadata": {},
   "source": [
    "The null hypotheses is defined as follows:\n"
   ]
  },
  {
   "cell_type": "markdown",
   "id": "religious-archive",
   "metadata": {},
   "source": [
    "$$\n",
    "H_0 : \\beta_1 = \\beta_2 = \\beta_3 = 0 \n",
    "$$"
   ]
  },
  {
   "cell_type": "markdown",
   "id": "efficient-debut",
   "metadata": {},
   "source": [
    "and the alternative hypothesis we want to prove:\n"
   ]
  },
  {
   "cell_type": "markdown",
   "id": "virtual-reynolds",
   "metadata": {},
   "source": [
    "$$H_a : \\beta_1 = \\beta_2 = \\beta_3 \\neq 0 $$\n"
   ]
  },
  {
   "cell_type": "markdown",
   "id": "operational-bicycle",
   "metadata": {},
   "source": [
    "in other words, $H_0$ claim that there are no relation between the predictors TV, radio, newspaper and the response variable sales.\n"
   ]
  },
  {
   "cell_type": "markdown",
   "id": "appreciated-bishop",
   "metadata": {},
   "source": [
    "Based on the p-values showed in the table 3.4 we have an extremely strong evidence of relation between spending in TV and Radio and increase in sales, so we can reject the null hypothesis on that predictors, but in the case of newspaper we can not prove a relationship with sales, as the p-value suggests, and the coefficent agree with this statement due to his nearly zero value (-0.001).\n"
   ]
  },
  {
   "cell_type": "markdown",
   "id": "special-mention",
   "metadata": {},
   "source": [
    "# 2"
   ]
  },
  {
   "cell_type": "markdown",
   "id": "protected-flesh",
   "metadata": {},
   "source": [
    "**Carefully explain the difference between the KNN classifier and the KNN regression methods.**\n"
   ]
  },
  {
   "cell_type": "markdown",
   "id": "least-theory",
   "metadata": {},
   "source": [
    " KNN Regression or K-Nearest Neighbors is a non-parametric method,that do not explicitly assume a parametric form of $f(X)$, and thereby is more flexible for performing regression."
   ]
  },
  {
   "cell_type": "markdown",
   "id": "sunrise-ethnic",
   "metadata": {},
   "source": [
    " KNN first identifies the $K$ nearest observations to a test observation, $x_0$, represented by $N_0$ and then estimates $f(x_0)$ using the average training responses in $N_0$ [@ISLR, pp. 105]:\n"
   ]
  },
  {
   "cell_type": "markdown",
   "id": "geographic-austria",
   "metadata": {},
   "source": [
    " $$\n",
    " \\hat{f}(x_0) = \\frac{1}{K} \\sum_{x_i \\in N_0}{y_i}\n",
    " $$"
   ]
  },
  {
   "cell_type": "markdown",
   "id": "declared-senator",
   "metadata": {},
   "source": [
    " For KNN Classifier given $K$, and $N_0$, estimates the conditional probability for class $j$\n",
    " as the fraction of points in $K$ whose response equal $j$ [@ISLR, pp. 39]:"
   ]
  },
  {
   "cell_type": "markdown",
   "id": "champion-visit",
   "metadata": {},
   "source": [
    " $$\n",
    " Pr(Y = j | X = x_0) = \\frac{1}{K} \\sum_{i \\in N_0}{I(y_i = j)}\n",
    " $$"
   ]
  },
  {
   "cell_type": "code",
   "execution_count": null,
   "id": "successful-roller",
   "metadata": {},
   "outputs": [],
   "source": []
  }
 ],
 "metadata": {
  "kernelspec": {
   "display_name": "R",
   "language": "R",
   "name": "ir"
  },
  "language_info": {
   "codemirror_mode": "r",
   "file_extension": ".r",
   "mimetype": "text/x-r-source",
   "name": "R",
   "pygments_lexer": "r",
   "version": "3.6.1"
  }
 },
 "nbformat": 4,
 "nbformat_minor": 5
}
