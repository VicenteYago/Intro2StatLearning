{
 "cells": [
  {
   "cell_type": "markdown",
   "id": "super-oxide",
   "metadata": {},
   "source": [
    "# Section 8.3 Lab: Decision Trees"
   ]
  },
  {
   "cell_type": "markdown",
   "id": "therapeutic-premium",
   "metadata": {},
   "source": [
    "## Fitting Classification Trees"
   ]
  },
  {
   "cell_type": "code",
   "execution_count": 4,
   "id": "august-homeless",
   "metadata": {},
   "outputs": [],
   "source": [
    "library(ISLR)\n",
    "library(tree)\n",
    "library(magrittr)"
   ]
  },
  {
   "cell_type": "markdown",
   "id": "pleasant-destruction",
   "metadata": {},
   "source": [
    "Were are going to predict the *Sales* variable from `Carseats` dataset. *Sales* is a continuous variable so we begin by recording it as as a new binary variable called *High* with the `ifelse()` function, to assing the value of **Yes** i the *Sales* exceeds 8, and **No** otherwise."
   ]
  },
  {
   "cell_type": "code",
   "execution_count": null,
   "id": "relevant-production",
   "metadata": {},
   "outputs": [],
   "source": [
    "attach(Carseats)"
   ]
  },
  {
   "cell_type": "code",
   "execution_count": null,
   "id": "manufactured-support",
   "metadata": {},
   "outputs": [],
   "source": [
    "High = ifelse(Sales<=8, \"No\", \"Yes\")"
   ]
  },
  {
   "cell_type": "code",
   "execution_count": null,
   "id": "contemporary-indian",
   "metadata": {},
   "outputs": [],
   "source": [
    "Carseats = data.frame(Carseats, High)\n",
    "str(Carseats)"
   ]
  },
  {
   "cell_type": "markdown",
   "id": "suitable-herald",
   "metadata": {},
   "source": [
    "Now we use the `tree()` function to fit a classification tree in order to predict *High* using all the variables but *Sales*"
   ]
  },
  {
   "cell_type": "code",
   "execution_count": null,
   "id": "blessed-liberal",
   "metadata": {},
   "outputs": [],
   "source": [
    "tree.carseats =  tree(High ~ . - Sales, Carseats)"
   ]
  },
  {
   "cell_type": "code",
   "execution_count": null,
   "id": "weekly-notification",
   "metadata": {},
   "outputs": [],
   "source": [
    "summary(tree.carseats)"
   ]
  },
  {
   "cell_type": "markdown",
   "id": "charitable-accident",
   "metadata": {},
   "source": [
    "We can see that the training erro rate is 9%. For classfication trees, the deviance reported in the output of summary() is given by :"
   ]
  },
  {
   "cell_type": "markdown",
   "id": "addressed-detroit",
   "metadata": {},
   "source": [
    "$$\n",
    "-2\\sum_{m}\\sum_{k}n_{mk}log\\hat p_{mk}\n",
    "$$"
   ]
  },
  {
   "cell_type": "markdown",
   "id": "attempted-dublin",
   "metadata": {},
   "source": [
    "where $n_{mk}$ is the number of observations in the *m*th terminal node that belong to the *k*th class. A small deviance indicates a tree that provides a good fit to the (trainig) data. The *residual mean deviance* reported is simply the deviance divided by $n-|T_0|$."
   ]
  },
  {
   "cell_type": "code",
   "execution_count": null,
   "id": "dimensional-particular",
   "metadata": {},
   "outputs": [],
   "source": [
    "plot(tree.carseats)\n",
    "text(tree.carseats, pretty = 0)"
   ]
  },
  {
   "cell_type": "markdown",
   "id": "acceptable-mediterranean",
   "metadata": {},
   "source": [
    "The most important indicator of *Sales* appears to be shelving location, since hte first branch differentiates **Good** locations from **Bad** and **Medium** locations."
   ]
  },
  {
   "cell_type": "markdown",
   "id": "coated-malawi",
   "metadata": {},
   "source": [
    "If we just type the name of the tree object, *R* prints ouptut corresponding to each branch of the tree"
   ]
  },
  {
   "cell_type": "code",
   "execution_count": null,
   "id": "private-virus",
   "metadata": {},
   "outputs": [],
   "source": [
    "tree.carseats"
   ]
  },
  {
   "cell_type": "markdown",
   "id": "hispanic-alpha",
   "metadata": {},
   "source": [
    "*R* displays\n",
    "* split criterion : \n",
    "* nº obs in that branch\n",
    "* deviance\n",
    "* overall prediction for the branch (**Yes** or **No**)\n",
    "* fracto of obs in that branch that take values of **Yes** and **No**\n",
    "\n",
    "Branches that lead to terminal nodes are indicates using asterisks."
   ]
  },
  {
   "cell_type": "markdown",
   "id": "ranging-lawyer",
   "metadata": {},
   "source": [
    "In order to properly evaluate the performance of a classificatio tree on these data, we must estimate the test error rather than simply computing the trainig error."
   ]
  },
  {
   "cell_type": "code",
   "execution_count": null,
   "id": "annoying-crest",
   "metadata": {},
   "outputs": [],
   "source": [
    "set.seed(2)\n",
    "train = sample(1:nrow(Carseats),200)\n",
    "Carseats.test = Carseats[-train,]\n",
    "High.test = High[-train]\n",
    "tree.carseats = tree(High ~ .-Sales, Carseats, subset = train)\n",
    "tree.pred = predict(tree.carseats, Carseats.test, type = \"class\")\n",
    "table(tree.pred, High.test)"
   ]
  },
  {
   "cell_type": "code",
   "execution_count": null,
   "id": "common-earthquake",
   "metadata": {},
   "outputs": [],
   "source": [
    "ACC_f = function(TN,TP,FN,FP){\n",
    "    return( (TN + TP) / (TN+TP+FN+FP) )\n",
    "}"
   ]
  },
  {
   "cell_type": "code",
   "execution_count": null,
   "id": "valuable-findings",
   "metadata": {},
   "outputs": [],
   "source": [
    "ACC_f(104,50,13,33)  %>% round(3)"
   ]
  },
  {
   "cell_type": "markdown",
   "id": "hired-fashion",
   "metadata": {},
   "source": [
    "This approach leads to correct predictions for around 77% fo the location in the test dataset"
   ]
  },
  {
   "cell_type": "markdown",
   "id": "empirical-pattern",
   "metadata": {},
   "source": [
    "Next we considerer wheter prunning the tree might lead to improved results. The function `cv.tree()` performs cross-validation in order to determine the optimal level of tree complexity. We use the argument `FUN=prune.misclass` in order to indicate that we want the calssification error rate to guide the cross-validation and pruning process, rather than the default for `cv.tree()` which is deviance."
   ]
  },
  {
   "cell_type": "code",
   "execution_count": null,
   "id": "incomplete-lotus",
   "metadata": {},
   "outputs": [],
   "source": [
    "set.seed(3)\n",
    "cv.carseats = cv.tree(tree.carseats, FUN = prune.misclass)\n",
    "names(cv.carseats)"
   ]
  },
  {
   "cell_type": "markdown",
   "id": "embedded-english",
   "metadata": {},
   "source": [
    "\n",
    "$k$ correspond to $\\alpha$ in"
   ]
  },
  {
   "cell_type": "markdown",
   "id": "wired-football",
   "metadata": {},
   "source": [
    "$$\n",
    "\\sum_{m=1}^{|T|}{\\sum_{i:x_i \\in R_m}{(y_i - \\hat y_{R_{m}})^2 + \\alpha |T|}}\n",
    "$$"
   ]
  },
  {
   "cell_type": "markdown",
   "id": "treated-savannah",
   "metadata": {},
   "source": [
    "where \n",
    "* $T\\subset T_0$\n",
    "* $T_0$ is the very large tree that needs to be pruned\n",
    "* $|T|$ indicates the number of terminal nodes of the tree $T$\n",
    "* $R_m$ is the rectangle (i.e the subset of predictor space) corresponding to the $m$th terminal node\n",
    "* $\\hat y_{R_{m}}$ os the predicted response associated with $R_m$ -that is the mean of the training obs in $R_m$\n"
   ]
  },
  {
   "cell_type": "markdown",
   "id": "beneficial-income",
   "metadata": {},
   "source": [
    "$\\alpha$ is the tunning parameter that controls a trade-off between the subree's complexity and its fit to the training data"
   ]
  },
  {
   "cell_type": "code",
   "execution_count": null,
   "id": "internal-novelty",
   "metadata": {},
   "outputs": [],
   "source": [
    "cv.carseats"
   ]
  },
  {
   "cell_type": "markdown",
   "id": "favorite-caution",
   "metadata": {},
   "source": [
    "Note that the name `dev` corresponds to the cross-validation error rate in this instance. The tree with 21 terminal nodes result in the lowest cross-validation error rate, with 74 cross-validation errors"
   ]
  },
  {
   "cell_type": "code",
   "execution_count": null,
   "id": "banner-platinum",
   "metadata": {},
   "outputs": [],
   "source": [
    "par(mfrow = c(1,2))\n",
    "plot(cv.carseats$size, cv.carseats$dev, type =  \"b\")\n",
    "plot(cv.carseats$k, cv.carseats$dev, type =  \"b\")"
   ]
  },
  {
   "cell_type": "markdown",
   "id": "affected-count",
   "metadata": {},
   "source": [
    "We now apply the `prune.misclass()` function in order to prune the tree to obtain the 9 node tree."
   ]
  },
  {
   "cell_type": "code",
   "execution_count": null,
   "id": "alpha-presence",
   "metadata": {},
   "outputs": [],
   "source": [
    "set.seed(3)\n",
    "prune.carseats = prune.misclass(tree.carseats, best = 9)\n",
    "plot(prune.carseats)\n",
    "text(prune.carseats, pretty = 0)"
   ]
  },
  {
   "cell_type": "code",
   "execution_count": null,
   "id": "forced-proportion",
   "metadata": {},
   "outputs": [],
   "source": [
    "set.seed(3)\n",
    "tree.pred = predict(prune.carseats, Carseats.test, type  = \"class\")\n",
    "table(tree.pred, High.test)"
   ]
  },
  {
   "cell_type": "code",
   "execution_count": null,
   "id": "engaging-memorial",
   "metadata": {},
   "outputs": [],
   "source": [
    "ACC_f(103,52,14,31)"
   ]
  },
  {
   "cell_type": "markdown",
   "id": "celtic-cargo",
   "metadata": {},
   "source": [
    "Now we have a slightly improved accuracy, but with a more interpretable tree. (29 vs 9 terminal nodes)"
   ]
  },
  {
   "cell_type": "markdown",
   "id": "amended-tactics",
   "metadata": {},
   "source": [
    "Now there is the prunned tree with only 2 terminal nodes: "
   ]
  },
  {
   "cell_type": "code",
   "execution_count": null,
   "id": "sexual-authorization",
   "metadata": {},
   "outputs": [],
   "source": [
    "prune.carseats = prune.misclass(tree.carseats, best = 2)\n",
    "plot(prune.carseats)\n",
    "text(prune.carseats, pretty = 0)\n",
    "\n",
    "tree.pred = predict(prune.carseats, Carseats.test, type = \"class\")\n",
    "table(tree.pred, High.test)"
   ]
  },
  {
   "cell_type": "code",
   "execution_count": null,
   "id": "diverse-wagon",
   "metadata": {},
   "outputs": [],
   "source": [
    "ACC_f(104,27,13,56)"
   ]
  },
  {
   "cell_type": "markdown",
   "id": "military-honey",
   "metadata": {},
   "source": [
    "As expected the accuray is worse."
   ]
  },
  {
   "cell_type": "markdown",
   "id": "involved-battlefield",
   "metadata": {},
   "source": [
    "And finaly here is the tree with more terminal nodes than the chosen one (9) but with a similar accuracy.  "
   ]
  },
  {
   "cell_type": "code",
   "execution_count": null,
   "id": "applied-covering",
   "metadata": {},
   "outputs": [],
   "source": [
    "prune.carseats = prune.misclass(tree.carseats, best = 14)\n",
    "plot(prune.carseats)\n",
    "text(prune.carseats, pretty = 0)\n",
    "\n",
    "tree.pred = predict(prune.carseats, Carseats.test, type = \"class\")\n",
    "table(tree.pred, High.test)"
   ]
  },
  {
   "cell_type": "code",
   "execution_count": null,
   "id": "anticipated-phase",
   "metadata": {},
   "outputs": [],
   "source": [
    "ACC_f(102,52,15,31)"
   ]
  },
  {
   "cell_type": "markdown",
   "id": "round-symbol",
   "metadata": {},
   "source": [
    "Hence we prefer the 9 nodes tree due to the better interpretability."
   ]
  },
  {
   "cell_type": "markdown",
   "id": "latter-carolina",
   "metadata": {},
   "source": [
    "## Fitting Regression Trees"
   ]
  },
  {
   "cell_type": "markdown",
   "id": "liberal-orange",
   "metadata": {},
   "source": [
    "We are goint to use `Boston` dataset"
   ]
  },
  {
   "cell_type": "code",
   "execution_count": 1,
   "id": "official-comfort",
   "metadata": {},
   "outputs": [],
   "source": [
    "library(MASS)"
   ]
  },
  {
   "cell_type": "code",
   "execution_count": 2,
   "id": "genuine-building",
   "metadata": {},
   "outputs": [
    {
     "name": "stdout",
     "output_type": "stream",
     "text": [
      "'data.frame':\t506 obs. of  14 variables:\n",
      " $ crim   : num  0.00632 0.02731 0.02729 0.03237 0.06905 ...\n",
      " $ zn     : num  18 0 0 0 0 0 12.5 12.5 12.5 12.5 ...\n",
      " $ indus  : num  2.31 7.07 7.07 2.18 2.18 2.18 7.87 7.87 7.87 7.87 ...\n",
      " $ chas   : int  0 0 0 0 0 0 0 0 0 0 ...\n",
      " $ nox    : num  0.538 0.469 0.469 0.458 0.458 0.458 0.524 0.524 0.524 0.524 ...\n",
      " $ rm     : num  6.58 6.42 7.18 7 7.15 ...\n",
      " $ age    : num  65.2 78.9 61.1 45.8 54.2 58.7 66.6 96.1 100 85.9 ...\n",
      " $ dis    : num  4.09 4.97 4.97 6.06 6.06 ...\n",
      " $ rad    : int  1 2 2 3 3 3 5 5 5 5 ...\n",
      " $ tax    : num  296 242 242 222 222 222 311 311 311 311 ...\n",
      " $ ptratio: num  15.3 17.8 17.8 18.7 18.7 18.7 15.2 15.2 15.2 15.2 ...\n",
      " $ black  : num  397 397 393 395 397 ...\n",
      " $ lstat  : num  4.98 9.14 4.03 2.94 5.33 ...\n",
      " $ medv   : num  24 21.6 34.7 33.4 36.2 28.7 22.9 27.1 16.5 18.9 ...\n"
     ]
    }
   ],
   "source": [
    "str(Boston)"
   ]
  },
  {
   "cell_type": "code",
   "execution_count": 11,
   "id": "perceived-burton",
   "metadata": {},
   "outputs": [
    {
     "data": {
      "text/plain": [
       "\n",
       "Regression tree:\n",
       "tree(formula = medv ~ ., data = Boston, subset = train)\n",
       "Variables actually used in tree construction:\n",
       "[1] \"rm\"    \"lstat\" \"crim\"  \"age\"  \n",
       "Number of terminal nodes:  7 \n",
       "Residual mean deviance:  10.38 = 2555 / 246 \n",
       "Distribution of residuals:\n",
       "    Min.  1st Qu.   Median     Mean  3rd Qu.     Max. \n",
       "-10.1800  -1.7770  -0.1775   0.0000   1.9230  16.5800 "
      ]
     },
     "metadata": {},
     "output_type": "display_data"
    }
   ],
   "source": [
    "set.seed(1)\n",
    "train = sample(1:nrow(Boston), nrow(Boston)/2)\n",
    "tree.boston = tree(medv ~ ., Boston, subset = train)\n",
    "summary(tree.boston)"
   ]
  },
  {
   "cell_type": "markdown",
   "id": "canadian-header",
   "metadata": {},
   "source": [
    "In the context of regression the deviance is simply the sum of squared errors for the tree."
   ]
  },
  {
   "cell_type": "code",
   "execution_count": 10,
   "id": "amazing-effects",
   "metadata": {},
   "outputs": [
    {
     "data": {
      "image/png": "[encoded data removed]",
      "text/plain": [
       "plot without title"
      ]
     },
     "metadata": {},
     "output_type": "display_data"
    }
   ],
   "source": [
    "plot(tree.boston)\n",
    "text(tree.boston, pretty = 0)"
   ]
  },
  {
   "cell_type": "markdown",
   "id": "assumed-mayor",
   "metadata": {},
   "source": [
    "The most important variable is `rm` wich represents \"average number of rooms per dwelling.\" The houses with less than 7 rooms, with a high `lstat` (\"lower status of the population (percent)\") and high crime have the more economic value. In the other side the houses with more than 7.5 rooms are the most expensive."
   ]
  },
  {
   "cell_type": "code",
   "execution_count": 12,
   "id": "blind-scotland",
   "metadata": {},
   "outputs": [
    {
     "data": {
      "image/png": "[encoded data removed]",
      "text/plain": [
       "plot without title"
      ]
     },
     "metadata": {},
     "output_type": "display_data"
    }
   ],
   "source": [
    "cv.boston = cv.tree(tree.boston)\n",
    "plot(cv.boston$size, cv.boston$dev, type = \"b\")"
   ]
  },
  {
   "cell_type": "markdown",
   "id": "imported-dallas",
   "metadata": {},
   "source": [
    "In this case using the more complex tree is advised by cross-validation."
   ]
  },
  {
   "cell_type": "markdown",
   "id": "manual-nurse",
   "metadata": {},
   "source": [
    "If we wish to prune the tree we could do as follows:"
   ]
  },
  {
   "cell_type": "code",
   "execution_count": 14,
   "id": "invisible-cylinder",
   "metadata": {},
   "outputs": [
    {
     "data": {
      "image/png": "[encoded data removed]",
      "text/plain": [
       "plot without title"
      ]
     },
     "metadata": {},
     "output_type": "display_data"
    }
   ],
   "source": [
    "prune.boston = prune.tree(tree.boston, best = 5)\n",
    "plot(prune.boston)\n",
    "text(prune.boston)"
   ]
  },
  {
   "cell_type": "markdown",
   "id": "solved-empire",
   "metadata": {},
   "source": [
    "Keeping with the cross-validation results we use the unpruned tree to make predictions on the test set."
   ]
  },
  {
   "cell_type": "code",
   "execution_count": 18,
   "id": "configured-trigger",
   "metadata": {},
   "outputs": [
    {
     "data": {
      "text/html": [
       "35.287"
      ],
      "text/latex": [
       "35.287"
      ],
      "text/markdown": [
       "35.287"
      ],
      "text/plain": [
       "[1] 35.287"
      ]
     },
     "metadata": {},
     "output_type": "display_data"
    },
    {
     "data": {
      "text/html": [
       "5.94"
      ],
      "text/latex": [
       "5.94"
      ],
      "text/markdown": [
       "5.94"
      ],
      "text/plain": [
       "[1] 5.94"
      ]
     },
     "metadata": {},
     "output_type": "display_data"
    },
    {
     "data": {
      "image/png": "[encoded data removed]",
      "text/plain": [
       "plot without title"
      ]
     },
     "metadata": {},
     "output_type": "display_data"
    }
   ],
   "source": [
    "yhat = predict(tree.boston, newdata = Boston[-train,])\n",
    "boston.test = Boston[-train, \"medv\"]\n",
    "plot(yhat, boston.test)\n",
    "abline(0,1)\n",
    "(MSE = mean((yhat-boston.test)^2))  %>% round(3)\n",
    "(RMSE = sqrt(mean((yhat-boston.test)^2)))  %>% round(3)"
   ]
  },
  {
   "cell_type": "markdown",
   "id": "upset-dover",
   "metadata": {},
   "source": [
    " In other words, the test set MSE associated with the regression tree is 35.28, and the RMSE 5.9 indicating that this model leads to test set predictions that are within 6000$ of the true median home value for the suburb. "
   ]
  },
  {
   "cell_type": "markdown",
   "id": "numeric-section",
   "metadata": {},
   "source": [
    "## Bagging and Random Forests"
   ]
  },
  {
   "cell_type": "markdown",
   "id": "polish-running",
   "metadata": {},
   "source": [
    "Here we apply bagging and random forests to the Boston data, using the `randomForest` package in R."
   ]
  },
  {
   "cell_type": "markdown",
   "id": "eligible-airfare",
   "metadata": {},
   "source": [
    "Recall that baggin is simply a special case of random forest with $m=p$. Therefore the `randomForest()` function can be used to perform both random forests and bagging. We perform bagging as follows:"
   ]
  },
  {
   "cell_type": "code",
   "execution_count": 25,
   "id": "affecting-scale",
   "metadata": {},
   "outputs": [],
   "source": [
    "library(randomForest)\n",
    "set.seed(1)\n",
    "bag.boston = randomForest(medv ~ ., data = Boston, subset = train,\n",
    "             mtry = 13, # all the 13 predictors should be considered\n",
    "             importance = T)"
   ]
  },
  {
   "cell_type": "markdown",
   "id": "imperial-bracket",
   "metadata": {},
   "source": [
    "Because $mtry = 13$, all the predictors are taken into account, in other words, bagging should be done."
   ]
  },
  {
   "cell_type": "code",
   "execution_count": 29,
   "id": "worthy-blond",
   "metadata": {},
   "outputs": [
    {
     "data": {
      "text/html": [
       "23.593"
      ],
      "text/latex": [
       "23.593"
      ],
      "text/markdown": [
       "23.593"
      ],
      "text/plain": [
       "[1] 23.593"
      ]
     },
     "metadata": {},
     "output_type": "display_data"
    },
    {
     "data": {
      "image/png": "[encoded data removed]",
      "text/plain": [
       "plot without title"
      ]
     },
     "metadata": {},
     "output_type": "display_data"
    }
   ],
   "source": [
    "yhat.bag = predict(bag.boston, newdata = Boston[-train,])\n",
    "plot(yhat.bag, boston.test)\n",
    "abline(0,1)\n",
    "mean((yhat.bag - boston.test)^2)  %>% round(3)"
   ]
  },
  {
   "cell_type": "markdown",
   "id": "second-numbers",
   "metadata": {},
   "source": [
    "The test set MSE associated with the bagged regression tre is 23.6, 12 units less than using an optimally-pruned single tree."
   ]
  },
  {
   "cell_type": "markdown",
   "id": "central-arrest",
   "metadata": {},
   "source": [
    "We could change the number of tree grown by `randomForest()` using the `ntree` argument."
   ]
  },
  {
   "cell_type": "code",
   "execution_count": 31,
   "id": "statutory-agent",
   "metadata": {},
   "outputs": [
    {
     "data": {
      "text/html": [
       "23.4547831543434"
      ],
      "text/latex": [
       "23.4547831543434"
      ],
      "text/markdown": [
       "23.4547831543434"
      ],
      "text/plain": [
       "[1] 23.45478"
      ]
     },
     "metadata": {},
     "output_type": "display_data"
    }
   ],
   "source": [
    "bag.boston = randomForest(medv ~ ., data = Boston,\n",
    "                          subset = train,\n",
    "                          mtry = 13,\n",
    "                          ntree = 25)\n",
    "yhat.bag = predict(bag.boston, newdata = Boston[-train,])\n",
    "mean((yhat.bag - boston.test)^2)"
   ]
  },
  {
   "cell_type": "markdown",
   "id": "invisible-production",
   "metadata": {},
   "source": [
    "Growing a random forest proceeds in exactly the same way, except that we use a smaller value of the `mtry` argument. By default, `randomForest()` uses p/3 variables when building a random forest of regression of trees, and $\\sqrt p$ variables when building a random forest of classification trees. Here we use `mtry = 6`."
   ]
  },
  {
   "cell_type": "code",
   "execution_count": 36,
   "id": "obvious-merchandise",
   "metadata": {},
   "outputs": [
    {
     "data": {
      "text/html": [
       "19.62"
      ],
      "text/latex": [
       "19.62"
      ],
      "text/markdown": [
       "19.62"
      ],
      "text/plain": [
       "[1] 19.62"
      ]
     },
     "metadata": {},
     "output_type": "display_data"
    }
   ],
   "source": [
    "set.seed(1)\n",
    "rf.boston = randomForest(medv ~ ., data = Boston, subset = train,\n",
    "                         mtry = 6, importance = T)\n",
    "yhat.rf = predict(rf.boston, newdata = Boston[-train,])\n",
    "mean((yhat.rf - boston.test)^2)  %>% round(3)"
   ]
  },
  {
   "cell_type": "markdown",
   "id": "warming-freeze",
   "metadata": {},
   "source": [
    "The test set is 19.5, this indicates that randoms forests yielded an improvement over bagging in this case."
   ]
  },
  {
   "cell_type": "markdown",
   "id": "objective-establishment",
   "metadata": {},
   "source": [
    "Using the `importance()` we can view the importance of each variable"
   ]
  },
  {
   "cell_type": "code",
   "execution_count": 38,
   "id": "antique-flood",
   "metadata": {},
   "outputs": [
    {
     "data": {
      "text/html": [
       "<table>\n",
       "<thead><tr><th></th><th scope=col>%IncMSE</th><th scope=col>IncNodePurity</th></tr></thead>\n",
       "<tbody>\n",
       "\t<tr><th scope=row>crim</th><td>16.697017 </td><td>1076.08786</td></tr>\n",
       "\t<tr><th scope=row>zn</th><td> 3.625784 </td><td>  88.35342</td></tr>\n",
       "\t<tr><th scope=row>indus</th><td> 4.968621 </td><td> 609.53356</td></tr>\n",
       "\t<tr><th scope=row>chas</th><td> 1.061432 </td><td>  52.21793</td></tr>\n",
       "\t<tr><th scope=row>nox</th><td>13.518179 </td><td> 709.87339</td></tr>\n",
       "\t<tr><th scope=row>rm</th><td>32.343305 </td><td>7857.65451</td></tr>\n",
       "\t<tr><th scope=row>age</th><td>13.272498 </td><td> 612.21424</td></tr>\n",
       "\t<tr><th scope=row>dis</th><td> 9.032477 </td><td> 714.94674</td></tr>\n",
       "\t<tr><th scope=row>rad</th><td> 2.878434 </td><td>  95.80598</td></tr>\n",
       "\t<tr><th scope=row>tax</th><td> 9.118801 </td><td> 364.92479</td></tr>\n",
       "\t<tr><th scope=row>ptratio</th><td> 8.467062 </td><td> 823.93341</td></tr>\n",
       "\t<tr><th scope=row>black</th><td> 7.579482 </td><td> 275.62272</td></tr>\n",
       "\t<tr><th scope=row>lstat</th><td>27.129817 </td><td>6027.63740</td></tr>\n",
       "</tbody>\n",
       "</table>\n"
      ],
      "text/latex": [
       "\\begin{tabular}{r|ll}\n",
       "  & \\%IncMSE & IncNodePurity\\\\\n",
       "\\hline\n",
       "\tcrim & 16.697017  & 1076.08786\\\\\n",
       "\tzn &  3.625784  &   88.35342\\\\\n",
       "\tindus &  4.968621  &  609.53356\\\\\n",
       "\tchas &  1.061432  &   52.21793\\\\\n",
       "\tnox & 13.518179  &  709.87339\\\\\n",
       "\trm & 32.343305  & 7857.65451\\\\\n",
       "\tage & 13.272498  &  612.21424\\\\\n",
       "\tdis &  9.032477  &  714.94674\\\\\n",
       "\trad &  2.878434  &   95.80598\\\\\n",
       "\ttax &  9.118801  &  364.92479\\\\\n",
       "\tptratio &  8.467062  &  823.93341\\\\\n",
       "\tblack &  7.579482  &  275.62272\\\\\n",
       "\tlstat & 27.129817  & 6027.63740\\\\\n",
       "\\end{tabular}\n"
      ],
      "text/markdown": [
       "\n",
       "| <!--/--> | %IncMSE | IncNodePurity |\n",
       "|---|---|---|\n",
       "| crim | 16.697017  | 1076.08786 |\n",
       "| zn |  3.625784  |   88.35342 |\n",
       "| indus |  4.968621  |  609.53356 |\n",
       "| chas |  1.061432  |   52.21793 |\n",
       "| nox | 13.518179  |  709.87339 |\n",
       "| rm | 32.343305  | 7857.65451 |\n",
       "| age | 13.272498  |  612.21424 |\n",
       "| dis |  9.032477  |  714.94674 |\n",
       "| rad |  2.878434  |   95.80598 |\n",
       "| tax |  9.118801  |  364.92479 |\n",
       "| ptratio |  8.467062  |  823.93341 |\n",
       "| black |  7.579482  |  275.62272 |\n",
       "| lstat | 27.129817  | 6027.63740 |\n",
       "\n"
      ],
      "text/plain": [
       "        %IncMSE   IncNodePurity\n",
       "crim    16.697017 1076.08786   \n",
       "zn       3.625784   88.35342   \n",
       "indus    4.968621  609.53356   \n",
       "chas     1.061432   52.21793   \n",
       "nox     13.518179  709.87339   \n",
       "rm      32.343305 7857.65451   \n",
       "age     13.272498  612.21424   \n",
       "dis      9.032477  714.94674   \n",
       "rad      2.878434   95.80598   \n",
       "tax      9.118801  364.92479   \n",
       "ptratio  8.467062  823.93341   \n",
       "black    7.579482  275.62272   \n",
       "lstat   27.129817 6027.63740   "
      ]
     },
     "metadata": {},
     "output_type": "display_data"
    }
   ],
   "source": [
    "importance(rf.boston)"
   ]
  },
  {
   "cell_type": "markdown",
   "id": "democratic-harvey",
   "metadata": {},
   "source": [
    "Two measures of variable imporance are reported:\n",
    "* $\\%incMSE$ : Based upon the mean decrease of the accuracy in predicitions on the out of bag samples when a given variable is excluded from the model.\n",
    "* $IncNodePurity$ : Measure of total decrease in node purity that results from splits over that variable, averaged over all trees. In the case of regression trees, the node impurity is measured by the training RSS, and for classification trees by de deviance."
   ]
  },
  {
   "cell_type": "code",
   "execution_count": 44,
   "id": "controlled-ballet",
   "metadata": {},
   "outputs": [
    {
     "data": {
      "image/png": "[encoded data removed]",
      "text/plain": [
       "plot without title"
      ]
     },
     "metadata": {},
     "output_type": "display_data"
    }
   ],
   "source": [
    "varImpPlot(rf.boston)"
   ]
  },
  {
   "cell_type": "markdown",
   "id": "effective-arthur",
   "metadata": {},
   "source": [
    "The results indicated that accross all fo the trees considered in the random forest, the number of rooms (****) and the wealth level of the comunity\n",
    "\n"
   ]
  }
 ],
 "metadata": {
  "kernelspec": {
   "display_name": "R",
   "language": "R",
   "name": "ir"
  },
  "language_info": {
   "codemirror_mode": "r",
   "file_extension": ".r",
   "mimetype": "text/x-r-source",
   "name": "R",
   "pygments_lexer": "r",
   "version": "3.6.1"
  }
 },
 "nbformat": 4,
 "nbformat_minor": 5
}
