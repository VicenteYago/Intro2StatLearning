{
 "cells": [
  {
   "cell_type": "markdown",
   "id": "unique-burlington",
   "metadata": {},
   "source": [
    "# Section 5.4 Lab: Cross-Validation and the Bootstrap"
   ]
  },
  {
   "cell_type": "markdown",
   "id": "numerical-chart",
   "metadata": {},
   "source": [
    "We explore the use of validation set approach in order to estimate the test error rates that result from fitting various linear models on the **Auto** dataset."
   ]
  },
  {
   "cell_type": "code",
   "execution_count": 1,
   "id": "legal-privacy",
   "metadata": {},
   "outputs": [],
   "source": [
    "library(ISLR)\n",
    "set.seed(1)\n",
    "attach(Auto)"
   ]
  },
  {
   "cell_type": "markdown",
   "id": "social-warrant",
   "metadata": {},
   "source": [
    "We begin using the `sample()` function to split the set of obs into two halves, by selecting a random subset of 196 obs out of the original 392 obs. We refer to these obs as the trainig set."
   ]
  },
  {
   "cell_type": "code",
   "execution_count": 2,
   "id": "fewer-sitting",
   "metadata": {},
   "outputs": [],
   "source": [
    "train = sample(392, 196)"
   ]
  },
  {
   "cell_type": "code",
   "execution_count": 3,
   "id": "systematic-asset",
   "metadata": {},
   "outputs": [],
   "source": [
    "lm.fit = lm(mpg ~ horsepower, data = Auto, subset = train)"
   ]
  },
  {
   "cell_type": "markdown",
   "id": "ideal-european",
   "metadata": {},
   "source": [
    "Now we calculate the **MSE** of all the 196 obs in the validation set."
   ]
  },
  {
   "cell_type": "code",
   "execution_count": 4,
   "id": "finnish-leave",
   "metadata": {},
   "outputs": [
    {
     "data": {
      "text/html": [
       "23.2660086465003"
      ],
      "text/latex": [
       "23.2660086465003"
      ],
      "text/markdown": [
       "23.2660086465003"
      ],
      "text/plain": [
       "[1] 23.26601"
      ]
     },
     "metadata": {},
     "output_type": "display_data"
    }
   ],
   "source": [
    "mean((mpg - predict(lm.fit, Auto))[-train]^2) "
   ]
  },
  {
   "cell_type": "markdown",
   "id": "considered-college",
   "metadata": {},
   "source": [
    "Similarly we can fit a quatric and cubic regressions"
   ]
  },
  {
   "cell_type": "code",
   "execution_count": 5,
   "id": "israeli-electronics",
   "metadata": {},
   "outputs": [
    {
     "data": {
      "text/html": [
       "18.7164594933828"
      ],
      "text/latex": [
       "18.7164594933828"
      ],
      "text/markdown": [
       "18.7164594933828"
      ],
      "text/plain": [
       "[1] 18.71646"
      ]
     },
     "metadata": {},
     "output_type": "display_data"
    }
   ],
   "source": [
    "lm.fit2 = lm(mpg ~ poly(horsepower, 2), data = Auto, subset = train)\n",
    "mean((mpg - predict(lm.fit2, Auto))[-train]^2) "
   ]
  },
  {
   "cell_type": "code",
   "execution_count": 7,
   "id": "initial-demographic",
   "metadata": {},
   "outputs": [
    {
     "data": {
      "text/html": [
       "18.7940067973945"
      ],
      "text/latex": [
       "18.7940067973945"
      ],
      "text/markdown": [
       "18.7940067973945"
      ],
      "text/plain": [
       "[1] 18.79401"
      ]
     },
     "metadata": {},
     "output_type": "display_data"
    }
   ],
   "source": [
    "lm.fit3 = lm(mpg ~ poly(horsepower, 3), data = Auto, subset = train)\n",
    "mean((mpg - predict(lm.fit3, Auto))[-train]^2) "
   ]
  },
  {
   "cell_type": "markdown",
   "id": "desirable-skirt",
   "metadata": {},
   "source": [
    "If we choose a different trainig set instead we will obtain different errors on the validation set"
   ]
  },
  {
   "cell_type": "code",
   "execution_count": 8,
   "id": "searching-generator",
   "metadata": {},
   "outputs": [],
   "source": [
    "set.seed(2)\n",
    "train = sample(392, 196)\n",
    "\n",
    "# LINEAR\n",
    "lm.fit = lm(mpg ~ horsepower, data = Auto, subset = train)\n",
    "mean((mpg - predict(lm.fit, Auto))[-train]^2) \n",
    "\n",
    "# CUADRATIC\n",
    "lm.fit2 = lm(mpg ~ poly(horsepower, 2), data = Auto, subset = train)\n",
    "mean((mpg - predict(lm.fit2, Auto))[-train]^2)\n",
    "\n",
    "#CUBIC\n",
    "lm.fit3 = lm(mpg ~ poly(horsepower, 3), data = Auto, subset = train)\n",
    "mean((mpg - predict(lm.fit3, Auto))[-train]^2) "
   ]
  }
 ],
 "metadata": {
  "kernelspec": {
   "display_name": "R",
   "language": "R",
   "name": "ir"
  },
  "language_info": {
   "codemirror_mode": "r",
   "file_extension": ".r",
   "mimetype": "text/x-r-source",
   "name": "R",
   "pygments_lexer": "r",
   "version": "3.6.1"
  }
 },
 "nbformat": 4,
 "nbformat_minor": 5
}
