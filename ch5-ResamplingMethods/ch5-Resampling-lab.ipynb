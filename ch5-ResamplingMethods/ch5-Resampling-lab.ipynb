{
 "cells": [
  {
   "cell_type": "markdown",
   "id": "unknown-strike",
   "metadata": {},
   "source": [
    "# Section 5.4 Lab: Cross-Validation and the Bootstrap"
   ]
  },
  {
   "cell_type": "markdown",
   "id": "innocent-affair",
   "metadata": {},
   "source": [
    "## The Validation Set Approach"
   ]
  },
  {
   "cell_type": "markdown",
   "id": "several-rescue",
   "metadata": {},
   "source": [
    "<img src=\"./images/validation.png\">"
   ]
  },
  {
   "cell_type": "markdown",
   "id": "hispanic-thumbnail",
   "metadata": {},
   "source": [
    "We explore the use of validation set approach in order to estimate the test error rates that result from fitting various linear models on the **Auto** dataset."
   ]
  },
  {
   "cell_type": "code",
   "execution_count": 1,
   "id": "mechanical-plate",
   "metadata": {},
   "outputs": [],
   "source": [
    "library(ISLR)\n",
    "library(magrittr)\n",
    "set.seed(1)\n",
    "attach(Auto)"
   ]
  },
  {
   "cell_type": "markdown",
   "id": "diverse-reception",
   "metadata": {},
   "source": [
    "We begin using the `sample()` function to split the set of obs into two halves, by selecting a random subset of 196 obs out of the original 392 obs. We refer to these obs as the trainig set."
   ]
  },
  {
   "cell_type": "code",
   "execution_count": 2,
   "id": "anonymous-zambia",
   "metadata": {},
   "outputs": [],
   "source": [
    "train = sample(392, 196)"
   ]
  },
  {
   "cell_type": "code",
   "execution_count": 3,
   "id": "advised-gazette",
   "metadata": {},
   "outputs": [],
   "source": [
    "lm.fit = lm(mpg ~ horsepower, data = Auto, subset = train)"
   ]
  },
  {
   "cell_type": "markdown",
   "id": "complete-mirror",
   "metadata": {},
   "source": [
    "Now we calculate the **MSE** of all the 196 obs in the validation set."
   ]
  },
  {
   "cell_type": "code",
   "execution_count": 4,
   "id": "legendary-forwarding",
   "metadata": {},
   "outputs": [
    {
     "data": {
      "text/html": [
       "23.2660086465003"
      ],
      "text/latex": [
       "23.2660086465003"
      ],
      "text/markdown": [
       "23.2660086465003"
      ],
      "text/plain": [
       "[1] 23.26601"
      ]
     },
     "metadata": {},
     "output_type": "display_data"
    }
   ],
   "source": [
    "mean((mpg - predict(lm.fit, Auto))[-train]^2) "
   ]
  },
  {
   "cell_type": "markdown",
   "id": "excited-liberty",
   "metadata": {},
   "source": [
    "Similarly we can fit a quatric and cubic regressions"
   ]
  },
  {
   "cell_type": "code",
   "execution_count": 5,
   "id": "acoustic-welsh",
   "metadata": {},
   "outputs": [
    {
     "data": {
      "text/html": [
       "18.7164594933828"
      ],
      "text/latex": [
       "18.7164594933828"
      ],
      "text/markdown": [
       "18.7164594933828"
      ],
      "text/plain": [
       "[1] 18.71646"
      ]
     },
     "metadata": {},
     "output_type": "display_data"
    }
   ],
   "source": [
    "lm.fit2 = lm(mpg ~ poly(horsepower, 2), data = Auto, subset = train)\n",
    "mean((mpg - predict(lm.fit2, Auto))[-train]^2) "
   ]
  },
  {
   "cell_type": "code",
   "execution_count": 6,
   "id": "sorted-costume",
   "metadata": {},
   "outputs": [
    {
     "data": {
      "text/html": [
       "18.7940067973945"
      ],
      "text/latex": [
       "18.7940067973945"
      ],
      "text/markdown": [
       "18.7940067973945"
      ],
      "text/plain": [
       "[1] 18.79401"
      ]
     },
     "metadata": {},
     "output_type": "display_data"
    }
   ],
   "source": [
    "lm.fit3 = lm(mpg ~ poly(horsepower, 3), data = Auto, subset = train)\n",
    "mean((mpg - predict(lm.fit3, Auto))[-train]^2) "
   ]
  },
  {
   "cell_type": "markdown",
   "id": "regulation-walter",
   "metadata": {},
   "source": [
    "If we choose a different trainig set instead we will obtain different errors on the validation set"
   ]
  },
  {
   "cell_type": "code",
   "execution_count": 7,
   "id": "round-bailey",
   "metadata": {},
   "outputs": [
    {
     "data": {
      "text/html": [
       "25.7265106448139"
      ],
      "text/latex": [
       "25.7265106448139"
      ],
      "text/markdown": [
       "25.7265106448139"
      ],
      "text/plain": [
       "[1] 25.72651"
      ]
     },
     "metadata": {},
     "output_type": "display_data"
    },
    {
     "data": {
      "text/html": [
       "20.4303642741463"
      ],
      "text/latex": [
       "20.4303642741463"
      ],
      "text/markdown": [
       "20.4303642741463"
      ],
      "text/plain": [
       "[1] 20.43036"
      ]
     },
     "metadata": {},
     "output_type": "display_data"
    },
    {
     "data": {
      "text/html": [
       "20.3853268638776"
      ],
      "text/latex": [
       "20.3853268638776"
      ],
      "text/markdown": [
       "20.3853268638776"
      ],
      "text/plain": [
       "[1] 20.38533"
      ]
     },
     "metadata": {},
     "output_type": "display_data"
    }
   ],
   "source": [
    "set.seed(2)\n",
    "train = sample(392, 196)\n",
    "\n",
    "# LINEAR\n",
    "lm.fit = lm(mpg ~ horsepower, data = Auto, subset = train)\n",
    "mean((mpg - predict(lm.fit, Auto))[-train]^2) \n",
    "\n",
    "# CUADRATIC\n",
    "lm.fit2 = lm(mpg ~ poly(horsepower, 2), data = Auto, subset = train)\n",
    "mean((mpg - predict(lm.fit2, Auto))[-train]^2)\n",
    "\n",
    "#CUBIC\n",
    "lm.fit3 = lm(mpg ~ poly(horsepower, 3), data = Auto, subset = train)\n",
    "mean((mpg - predict(lm.fit3, Auto))[-train]^2) "
   ]
  },
  {
   "cell_type": "markdown",
   "id": "pressed-grocery",
   "metadata": {},
   "source": [
    "## Leave One-Out Cross-Validation"
   ]
  },
  {
   "cell_type": "markdown",
   "id": "talented-israel",
   "metadata": {},
   "source": [
    "<img src=\"./images/loocv.png\">"
   ]
  },
  {
   "cell_type": "markdown",
   "id": "accomplished-maria",
   "metadata": {},
   "source": [
    "*LOOCV* can be computed automatically for any generalized linear model usin the `glm()` and `cv.glm()` functions. If we use `glm()` to fit a model without passing in the `family` argument, then it performs a linear regresssion, just like `lm()` function. "
   ]
  },
  {
   "cell_type": "code",
   "execution_count": 8,
   "id": "sustainable-theory",
   "metadata": {},
   "outputs": [
    {
     "data": {
      "text/html": [
       "<dl class=dl-horizontal>\n",
       "\t<dt>(Intercept)</dt>\n",
       "\t\t<dd>39.9358610211705</dd>\n",
       "\t<dt>horsepower</dt>\n",
       "\t\t<dd>-0.157844733353654</dd>\n",
       "</dl>\n"
      ],
      "text/latex": [
       "\\begin{description*}\n",
       "\\item[(Intercept)] 39.9358610211705\n",
       "\\item[horsepower] -0.157844733353654\n",
       "\\end{description*}\n"
      ],
      "text/markdown": [
       "(Intercept)\n",
       ":   39.9358610211705horsepower\n",
       ":   -0.157844733353654\n",
       "\n"
      ],
      "text/plain": [
       "(Intercept)  horsepower \n",
       " 39.9358610  -0.1578447 "
      ]
     },
     "metadata": {},
     "output_type": "display_data"
    }
   ],
   "source": [
    "glm.fit = glm(mpg ~ horsepower, data = Auto)\n",
    "coef(glm.fit)"
   ]
  },
  {
   "cell_type": "code",
   "execution_count": 9,
   "id": "chinese-flesh",
   "metadata": {},
   "outputs": [],
   "source": [
    "library(boot)"
   ]
  },
  {
   "cell_type": "code",
   "execution_count": 10,
   "id": "bored-installation",
   "metadata": {},
   "outputs": [
    {
     "data": {
      "text/html": [
       "<ol class=list-inline>\n",
       "\t<li>24.2315135179292</li>\n",
       "\t<li>24.2311440937561</li>\n",
       "</ol>\n"
      ],
      "text/latex": [
       "\\begin{enumerate*}\n",
       "\\item 24.2315135179292\n",
       "\\item 24.2311440937561\n",
       "\\end{enumerate*}\n"
      ],
      "text/markdown": [
       "1. 24.2315135179292\n",
       "2. 24.2311440937561\n",
       "\n",
       "\n"
      ],
      "text/plain": [
       "[1] 24.23151 24.23114"
      ]
     },
     "metadata": {},
     "output_type": "display_data"
    }
   ],
   "source": [
    "cv.err = cv.glm(Auto, glm.fit) # K gives a LOOCV if not specified\n",
    "cv.err$delta"
   ]
  },
  {
   "cell_type": "markdown",
   "id": "accurate-fluid",
   "metadata": {},
   "source": [
    "`cv.glm()` function produces a list with several components. The two numbers in the `delta` vector contain the cross-validation results corresponding to this formulae:\n"
   ]
  },
  {
   "cell_type": "markdown",
   "id": "dangerous-drill",
   "metadata": {},
   "source": [
    "$$CV_{(n)} = \\frac{1}{n}\\sum_{i=1}^{n}{MSE_{i}}$$"
   ]
  },
  {
   "cell_type": "markdown",
   "id": "distinct-snake",
   "metadata": {},
   "source": [
    "We can repeat this procedure for increasing complex polynomial fits, using a `for()` loop."
   ]
  },
  {
   "cell_type": "code",
   "execution_count": 26,
   "id": "active-mississippi",
   "metadata": {},
   "outputs": [
    {
     "data": {
      "text/html": [
       "<ol class=list-inline>\n",
       "\t<li>24.232</li>\n",
       "\t<li>19.248</li>\n",
       "\t<li>19.335</li>\n",
       "\t<li>19.424</li>\n",
       "\t<li>19.033</li>\n",
       "</ol>\n"
      ],
      "text/latex": [
       "\\begin{enumerate*}\n",
       "\\item 24.232\n",
       "\\item 19.248\n",
       "\\item 19.335\n",
       "\\item 19.424\n",
       "\\item 19.033\n",
       "\\end{enumerate*}\n"
      ],
      "text/markdown": [
       "1. 24.232\n",
       "2. 19.248\n",
       "3. 19.335\n",
       "4. 19.424\n",
       "5. 19.033\n",
       "\n",
       "\n"
      ],
      "text/plain": [
       "[1] 24.232 19.248 19.335 19.424 19.033"
      ]
     },
     "metadata": {},
     "output_type": "display_data"
    }
   ],
   "source": [
    "cv.error = rep(0,5)\n",
    "for (i in 1:5){\n",
    "    glm.fit = glm(mpg ~ poly(horsepower, i), data = Auto)\n",
    "    cv.error[i] = cv.glm(Auto, glm.fit)$delta[1]\n",
    "}\n",
    "round(cv.error, 3)"
   ]
  },
  {
   "cell_type": "code",
   "execution_count": 27,
   "id": "imported-creek",
   "metadata": {},
   "outputs": [
    {
     "data": {
      "image/png": "[encoded data removed]",
      "text/plain": [
       "Plot with title “LOOCV”"
      ]
     },
     "metadata": {},
     "output_type": "display_data"
    }
   ],
   "source": [
    "plot(cv.error, type = \"b\", xlab = \"Degree of polynomial\", ylab = \"MSE\", main = \"LOOCV\")"
   ]
  },
  {
   "cell_type": "markdown",
   "id": "behavioral-picking",
   "metadata": {},
   "source": [
    "We observe a sharp drop in the estimated test MSE between the linear and quadratic fits, but then no clear improvement from using higher-order polynomials."
   ]
  },
  {
   "cell_type": "markdown",
   "id": "extreme-drunk",
   "metadata": {},
   "source": [
    "## k-Fold Cross-Validation"
   ]
  },
  {
   "cell_type": "markdown",
   "id": "commercial-academy",
   "metadata": {},
   "source": [
    "<img src=\"./images/kfoldcv.png\">"
   ]
  },
  {
   "cell_type": "markdown",
   "id": "under-driving",
   "metadata": {},
   "source": [
    "We only need to use $K = 10$ on the `cv.glm()` function and adjust the code to iterate 10 times."
   ]
  },
  {
   "cell_type": "code",
   "execution_count": 22,
   "id": "curious-michigan",
   "metadata": {},
   "outputs": [
    {
     "data": {
      "text/html": [
       "<ol class=list-inline>\n",
       "\t<li>24.272</li>\n",
       "\t<li>19.269</li>\n",
       "\t<li>19.348</li>\n",
       "\t<li>19.295</li>\n",
       "\t<li>19.032</li>\n",
       "\t<li>18.898</li>\n",
       "\t<li>19.121</li>\n",
       "\t<li>19.147</li>\n",
       "\t<li>18.87</li>\n",
       "\t<li>20.955</li>\n",
       "</ol>\n"
      ],
      "text/latex": [
       "\\begin{enumerate*}\n",
       "\\item 24.272\n",
       "\\item 19.269\n",
       "\\item 19.348\n",
       "\\item 19.295\n",
       "\\item 19.032\n",
       "\\item 18.898\n",
       "\\item 19.121\n",
       "\\item 19.147\n",
       "\\item 18.87\n",
       "\\item 20.955\n",
       "\\end{enumerate*}\n"
      ],
      "text/markdown": [
       "1. 24.272\n",
       "2. 19.269\n",
       "3. 19.348\n",
       "4. 19.295\n",
       "5. 19.032\n",
       "6. 18.898\n",
       "7. 19.121\n",
       "8. 19.147\n",
       "9. 18.87\n",
       "10. 20.955\n",
       "\n",
       "\n"
      ],
      "text/plain": [
       " [1] 24.272 19.269 19.348 19.295 19.032 18.898 19.121 19.147 18.870 20.955"
      ]
     },
     "metadata": {},
     "output_type": "display_data"
    }
   ],
   "source": [
    "set.seed(17)\n",
    "cv.error.10 = rep(0,10)\n",
    "for (i in 1:10){\n",
    "    glm.fit = glm(mpg ~ poly(horsepower, i), data = Auto)\n",
    "    cv.error.10[i] = cv.glm(Auto, K = 10, glm.fit)$delta[1]\n",
    "}\n",
    "round(cv.error.10, 3)"
   ]
  },
  {
   "cell_type": "code",
   "execution_count": 28,
   "id": "curious-embassy",
   "metadata": {},
   "outputs": [
    {
     "data": {
      "image/png": "[encoded data removed]",
      "text/plain": [
       "Plot with title “10-fold CV”"
      ]
     },
     "metadata": {},
     "output_type": "display_data"
    }
   ],
   "source": [
    "plot(cv.error.10, type = \"b\", xlab = \"Degree of polynomial\", ylab = \"MSE\", main = \"10-fold CV\")"
   ]
  },
  {
   "cell_type": "markdown",
   "id": "earned-secondary",
   "metadata": {},
   "source": [
    "Notice that the computation is much shorter than that of LOOCV. "
   ]
  },
  {
   "cell_type": "markdown",
   "id": "complicated-strip",
   "metadata": {},
   "source": [
    "## The Bootstrap"
   ]
  },
  {
   "cell_type": "markdown",
   "id": "engaging-syndrome",
   "metadata": {},
   "source": [
    "<img src=\"./images/bootstrap.png\">"
   ]
  },
  {
   "cell_type": "markdown",
   "id": "hazardous-experience",
   "metadata": {},
   "source": [
    " ### Estimating the Accuracy of a Statistic o Interest"
   ]
  },
  {
   "cell_type": "markdown",
   "id": "tight-sight",
   "metadata": {},
   "source": [
    "Performing bootstrap analysis in R entails two steps:\n",
    "* create a function that creates the statistic of interes\n",
    "* use the `boot()` function to perfomr the bootstrap by repeatedly sampling obs from the data with replacement."
   ]
  },
  {
   "cell_type": "markdown",
   "id": "sublime-graphic",
   "metadata": {},
   "source": [
    "Following the example from the Boostrap section, we will use the `portfolio` dataset. First we need to compute the `alpha.fn()` function, which takes the $(X,Y)$ data as well as a vector indication which obs should be used in order to estimate $\\alpha$ "
   ]
  },
  {
   "cell_type": "code",
   "execution_count": 13,
   "id": "involved-fellow",
   "metadata": {},
   "outputs": [],
   "source": [
    "alpha <- function(data, index){\n",
    "        X = data$X[index]\n",
    "        Y = data$Y[index]\n",
    "    return((var(Y) - cov(X,Y))/(var(X) + var(Y) - 2*cov(X,Y)))\n",
    "}"
   ]
  },
  {
   "cell_type": "code",
   "execution_count": 14,
   "id": "removable-fiction",
   "metadata": {},
   "outputs": [
    {
     "data": {
      "text/html": [
       "0.57583207459283"
      ],
      "text/latex": [
       "0.57583207459283"
      ],
      "text/markdown": [
       "0.57583207459283"
      ],
      "text/plain": [
       "[1] 0.5758321"
      ]
     },
     "metadata": {},
     "output_type": "display_data"
    }
   ],
   "source": [
    "alpha(Portfolio, 1:100)"
   ]
  },
  {
   "cell_type": "markdown",
   "id": "historical-happiness",
   "metadata": {},
   "source": [
    "The next command uses the `sample()` function to randomly select 100 obs from the range 1:100, with replacement. This is equivalent to constructing a new bootstrap data set and recomputing $\\hat\\alpha$ based on  the new data set."
   ]
  },
  {
   "cell_type": "code",
   "execution_count": 15,
   "id": "focused-equipment",
   "metadata": {},
   "outputs": [
    {
     "data": {
      "text/html": [
       "<ol class=list-inline>\n",
       "\t<li>68</li>\n",
       "\t<li>39</li>\n",
       "\t<li>1</li>\n",
       "\t<li>34</li>\n",
       "\t<li>87</li>\n",
       "\t<li>43</li>\n",
       "\t<li>14</li>\n",
       "\t<li>82</li>\n",
       "\t<li>59</li>\n",
       "\t<li>51</li>\n",
       "\t<li>97</li>\n",
       "\t<li>85</li>\n",
       "\t<li>21</li>\n",
       "\t<li>54</li>\n",
       "\t<li>74</li>\n",
       "\t<li>7</li>\n",
       "\t<li>73</li>\n",
       "\t<li>79</li>\n",
       "\t<li>85</li>\n",
       "\t<li>37</li>\n",
       "\t<li>89</li>\n",
       "\t<li>37</li>\n",
       "\t<li>34</li>\n",
       "\t<li>89</li>\n",
       "\t<li>44</li>\n",
       "\t<li>79</li>\n",
       "\t<li>33</li>\n",
       "\t<li>84</li>\n",
       "\t<li>35</li>\n",
       "\t<li>70</li>\n",
       "\t<li>74</li>\n",
       "\t<li>42</li>\n",
       "\t<li>38</li>\n",
       "\t<li>20</li>\n",
       "\t<li>28</li>\n",
       "\t<li>20</li>\n",
       "\t<li>44</li>\n",
       "\t<li>87</li>\n",
       "\t<li>70</li>\n",
       "\t<li>40</li>\n",
       "\t<li>44</li>\n",
       "\t<li>25</li>\n",
       "\t<li>70</li>\n",
       "\t<li>39</li>\n",
       "\t<li>51</li>\n",
       "\t<li>42</li>\n",
       "\t<li>6</li>\n",
       "\t<li>24</li>\n",
       "\t<li>32</li>\n",
       "\t<li>14</li>\n",
       "\t<li>2</li>\n",
       "\t<li>45</li>\n",
       "\t<li>18</li>\n",
       "\t<li>22</li>\n",
       "\t<li>78</li>\n",
       "\t<li>65</li>\n",
       "\t<li>70</li>\n",
       "\t<li>87</li>\n",
       "\t<li>70</li>\n",
       "\t<li>75</li>\n",
       "\t<li>81</li>\n",
       "\t<li>100</li>\n",
       "\t<li>13</li>\n",
       "\t<li>40</li>\n",
       "\t<li>89</li>\n",
       "\t<li>48</li>\n",
       "\t<li>89</li>\n",
       "\t<li>23</li>\n",
       "\t<li>84</li>\n",
       "\t<li>29</li>\n",
       "\t<li>13</li>\n",
       "\t<li>22</li>\n",
       "\t<li>93</li>\n",
       "\t<li>28</li>\n",
       "\t<li>48</li>\n",
       "\t<li>33</li>\n",
       "\t<li>45</li>\n",
       "\t<li>21</li>\n",
       "\t<li>31</li>\n",
       "\t<li>17</li>\n",
       "\t<li>73</li>\n",
       "\t<li>87</li>\n",
       "\t<li>83</li>\n",
       "\t<li>90</li>\n",
       "\t<li>48</li>\n",
       "\t<li>64</li>\n",
       "\t<li>94</li>\n",
       "\t<li>96</li>\n",
       "\t<li>60</li>\n",
       "\t<li>51</li>\n",
       "\t<li>93</li>\n",
       "\t<li>34</li>\n",
       "\t<li>10</li>\n",
       "\t<li>1</li>\n",
       "\t<li>43</li>\n",
       "\t<li>59</li>\n",
       "\t<li>26</li>\n",
       "\t<li>15</li>\n",
       "\t<li>58</li>\n",
       "\t<li>29</li>\n",
       "</ol>\n"
      ],
      "text/latex": [
       "\\begin{enumerate*}\n",
       "\\item 68\n",
       "\\item 39\n",
       "\\item 1\n",
       "\\item 34\n",
       "\\item 87\n",
       "\\item 43\n",
       "\\item 14\n",
       "\\item 82\n",
       "\\item 59\n",
       "\\item 51\n",
       "\\item 97\n",
       "\\item 85\n",
       "\\item 21\n",
       "\\item 54\n",
       "\\item 74\n",
       "\\item 7\n",
       "\\item 73\n",
       "\\item 79\n",
       "\\item 85\n",
       "\\item 37\n",
       "\\item 89\n",
       "\\item 37\n",
       "\\item 34\n",
       "\\item 89\n",
       "\\item 44\n",
       "\\item 79\n",
       "\\item 33\n",
       "\\item 84\n",
       "\\item 35\n",
       "\\item 70\n",
       "\\item 74\n",
       "\\item 42\n",
       "\\item 38\n",
       "\\item 20\n",
       "\\item 28\n",
       "\\item 20\n",
       "\\item 44\n",
       "\\item 87\n",
       "\\item 70\n",
       "\\item 40\n",
       "\\item 44\n",
       "\\item 25\n",
       "\\item 70\n",
       "\\item 39\n",
       "\\item 51\n",
       "\\item 42\n",
       "\\item 6\n",
       "\\item 24\n",
       "\\item 32\n",
       "\\item 14\n",
       "\\item 2\n",
       "\\item 45\n",
       "\\item 18\n",
       "\\item 22\n",
       "\\item 78\n",
       "\\item 65\n",
       "\\item 70\n",
       "\\item 87\n",
       "\\item 70\n",
       "\\item 75\n",
       "\\item 81\n",
       "\\item 100\n",
       "\\item 13\n",
       "\\item 40\n",
       "\\item 89\n",
       "\\item 48\n",
       "\\item 89\n",
       "\\item 23\n",
       "\\item 84\n",
       "\\item 29\n",
       "\\item 13\n",
       "\\item 22\n",
       "\\item 93\n",
       "\\item 28\n",
       "\\item 48\n",
       "\\item 33\n",
       "\\item 45\n",
       "\\item 21\n",
       "\\item 31\n",
       "\\item 17\n",
       "\\item 73\n",
       "\\item 87\n",
       "\\item 83\n",
       "\\item 90\n",
       "\\item 48\n",
       "\\item 64\n",
       "\\item 94\n",
       "\\item 96\n",
       "\\item 60\n",
       "\\item 51\n",
       "\\item 93\n",
       "\\item 34\n",
       "\\item 10\n",
       "\\item 1\n",
       "\\item 43\n",
       "\\item 59\n",
       "\\item 26\n",
       "\\item 15\n",
       "\\item 58\n",
       "\\item 29\n",
       "\\end{enumerate*}\n"
      ],
      "text/markdown": [
       "1. 68\n",
       "2. 39\n",
       "3. 1\n",
       "4. 34\n",
       "5. 87\n",
       "6. 43\n",
       "7. 14\n",
       "8. 82\n",
       "9. 59\n",
       "10. 51\n",
       "11. 97\n",
       "12. 85\n",
       "13. 21\n",
       "14. 54\n",
       "15. 74\n",
       "16. 7\n",
       "17. 73\n",
       "18. 79\n",
       "19. 85\n",
       "20. 37\n",
       "21. 89\n",
       "22. 37\n",
       "23. 34\n",
       "24. 89\n",
       "25. 44\n",
       "26. 79\n",
       "27. 33\n",
       "28. 84\n",
       "29. 35\n",
       "30. 70\n",
       "31. 74\n",
       "32. 42\n",
       "33. 38\n",
       "34. 20\n",
       "35. 28\n",
       "36. 20\n",
       "37. 44\n",
       "38. 87\n",
       "39. 70\n",
       "40. 40\n",
       "41. 44\n",
       "42. 25\n",
       "43. 70\n",
       "44. 39\n",
       "45. 51\n",
       "46. 42\n",
       "47. 6\n",
       "48. 24\n",
       "49. 32\n",
       "50. 14\n",
       "51. 2\n",
       "52. 45\n",
       "53. 18\n",
       "54. 22\n",
       "55. 78\n",
       "56. 65\n",
       "57. 70\n",
       "58. 87\n",
       "59. 70\n",
       "60. 75\n",
       "61. 81\n",
       "62. 100\n",
       "63. 13\n",
       "64. 40\n",
       "65. 89\n",
       "66. 48\n",
       "67. 89\n",
       "68. 23\n",
       "69. 84\n",
       "70. 29\n",
       "71. 13\n",
       "72. 22\n",
       "73. 93\n",
       "74. 28\n",
       "75. 48\n",
       "76. 33\n",
       "77. 45\n",
       "78. 21\n",
       "79. 31\n",
       "80. 17\n",
       "81. 73\n",
       "82. 87\n",
       "83. 83\n",
       "84. 90\n",
       "85. 48\n",
       "86. 64\n",
       "87. 94\n",
       "88. 96\n",
       "89. 60\n",
       "90. 51\n",
       "91. 93\n",
       "92. 34\n",
       "93. 10\n",
       "94. 1\n",
       "95. 43\n",
       "96. 59\n",
       "97. 26\n",
       "98. 15\n",
       "99. 58\n",
       "100. 29\n",
       "\n",
       "\n"
      ],
      "text/plain": [
       "  [1]  68  39   1  34  87  43  14  82  59  51  97  85  21  54  74   7  73  79\n",
       " [19]  85  37  89  37  34  89  44  79  33  84  35  70  74  42  38  20  28  20\n",
       " [37]  44  87  70  40  44  25  70  39  51  42   6  24  32  14   2  45  18  22\n",
       " [55]  78  65  70  87  70  75  81 100  13  40  89  48  89  23  84  29  13  22\n",
       " [73]  93  28  48  33  45  21  31  17  73  87  83  90  48  64  94  96  60  51\n",
       " [91]  93  34  10   1  43  59  26  15  58  29"
      ]
     },
     "metadata": {},
     "output_type": "display_data"
    }
   ],
   "source": [
    "set.seed(1)\n",
    "(my.sample <- sample(100, # x, a vector or positive integer\n",
    "                     100, # size\n",
    "                     replace = T))"
   ]
  },
  {
   "cell_type": "code",
   "execution_count": 16,
   "id": "cheap-grain",
   "metadata": {},
   "outputs": [
    {
     "data": {
      "text/html": [
       "0.737"
      ],
      "text/latex": [
       "0.737"
      ],
      "text/markdown": [
       "0.737"
      ],
      "text/plain": [
       "[1] 0.737"
      ]
     },
     "metadata": {},
     "output_type": "display_data"
    }
   ],
   "source": [
    "alpha(Portfolio, my.sample) %>% round(3)"
   ]
  },
  {
   "cell_type": "markdown",
   "id": "casual-fitting",
   "metadata": {},
   "source": [
    "We can implement a bootstrap analysis by permforming this code many times, recording all the corresponding estimates for $\\alpha$, and computing the resulting standard deviation. However the `boot()` funciton automates this approach. Below we produce R = 1000 bootstrap estimates for $\\alpha$"
   ]
  },
  {
   "cell_type": "code",
   "execution_count": 18,
   "id": "conservative-picking",
   "metadata": {},
   "outputs": [
    {
     "data": {
      "text/plain": [
       "\n",
       "ORDINARY NONPARAMETRIC BOOTSTRAP\n",
       "\n",
       "\n",
       "Call:\n",
       "boot(data = Portfolio, statistic = alpha, R = 1000)\n",
       "\n",
       "\n",
       "Bootstrap Statistics :\n",
       "     original       bias    std. error\n",
       "t1* 0.5758321 -0.001539618  0.08846251"
      ]
     },
     "metadata": {},
     "output_type": "display_data"
    }
   ],
   "source": [
    "boot(Portfolio,\n",
    "     alpha,\n",
    "     R = 1000) # Number of bootstrap samples"
   ]
  },
  {
   "cell_type": "markdown",
   "id": "saved-dress",
   "metadata": {},
   "source": [
    "### Estimating the Accuracy of a Linear Regression Model"
   ]
  },
  {
   "cell_type": "markdown",
   "id": "dominican-psychology",
   "metadata": {},
   "source": [
    "The bootstrap approach can be used to assess the variability of the coefficient estimates and prediction from a stadistical learning method. Here we use the bootstrap to asses the variability for $\\beta_0$ and $\\beta_1$, the intercept and slope terms for a linear regression model.\n",
    "\n",
    "We will compare the estimates using the bootstrap to those obtained using the formulas for $SE(\\hat\\beta_0)$ and $SE(\\hat\\beta_1)$."
   ]
  },
  {
   "cell_type": "code",
   "execution_count": 33,
   "id": "general-letters",
   "metadata": {},
   "outputs": [
    {
     "data": {
      "text/html": [
       "<dl class=dl-horizontal>\n",
       "\t<dt>(Intercept)</dt>\n",
       "\t\t<dd>39.936</dd>\n",
       "\t<dt>horsepower</dt>\n",
       "\t\t<dd>-0.158</dd>\n",
       "</dl>\n"
      ],
      "text/latex": [
       "\\begin{description*}\n",
       "\\item[(Intercept)] 39.936\n",
       "\\item[horsepower] -0.158\n",
       "\\end{description*}\n"
      ],
      "text/markdown": [
       "(Intercept)\n",
       ":   39.936horsepower\n",
       ":   -0.158\n",
       "\n"
      ],
      "text/plain": [
       "(Intercept)  horsepower \n",
       "     39.936      -0.158 "
      ]
     },
     "metadata": {},
     "output_type": "display_data"
    }
   ],
   "source": [
    "boot.fn = function(data, index) {\n",
    "    return(coef(lm(mpg ~ horsepower, data = data, subset = index)))\n",
    "}\n",
    "\n",
    "boot.fn(Auto, 1:392) %>% round(3)"
   ]
  },
  {
   "cell_type": "markdown",
   "id": "coordinated-sampling",
   "metadata": {},
   "source": [
    "Also we can use randomnly sampling with replacement:"
   ]
  },
  {
   "cell_type": "code",
   "execution_count": 35,
   "id": "harmful-blowing",
   "metadata": {},
   "outputs": [
    {
     "data": {
      "text/html": [
       "<dl class=dl-horizontal>\n",
       "\t<dt>(Intercept)</dt>\n",
       "\t\t<dd>40.34</dd>\n",
       "\t<dt>horsepower</dt>\n",
       "\t\t<dd>-0.163</dd>\n",
       "</dl>\n"
      ],
      "text/latex": [
       "\\begin{description*}\n",
       "\\item[(Intercept)] 40.34\n",
       "\\item[horsepower] -0.163\n",
       "\\end{description*}\n"
      ],
      "text/markdown": [
       "(Intercept)\n",
       ":   40.34horsepower\n",
       ":   -0.163\n",
       "\n"
      ],
      "text/plain": [
       "(Intercept)  horsepower \n",
       "     40.340      -0.163 "
      ]
     },
     "metadata": {},
     "output_type": "display_data"
    }
   ],
   "source": [
    "set.seed(1)\n",
    "\n",
    "boot.fn(Auto, sample(392,392, replace = T)) %>% round(3)"
   ]
  },
  {
   "cell_type": "markdown",
   "id": "weekly-dimension",
   "metadata": {},
   "source": [
    "Next, we use the `boot()` function to compute the standard erros of 1000 bootstrap estimates for the intercept and slope terms"
   ]
  },
  {
   "cell_type": "code",
   "execution_count": 53,
   "id": "functional-signature",
   "metadata": {},
   "outputs": [
    {
     "data": {
      "text/plain": [
       "\n",
       "ORDINARY NONPARAMETRIC BOOTSTRAP\n",
       "\n",
       "\n",
       "Call:\n",
       "boot(data = Auto, statistic = boot.fn, R = 1000)\n",
       "\n",
       "\n",
       "Bootstrap Statistics :\n",
       "      original        bias    std. error\n",
       "t1* 39.9358610  5.119817e-04 0.857404169\n",
       "t2* -0.1578447 -9.095879e-05 0.007444869"
      ]
     },
     "metadata": {},
     "output_type": "display_data"
    }
   ],
   "source": [
    "boot(Auto, boot.fn, 1000)"
   ]
  },
  {
   "cell_type": "markdown",
   "id": "ranking-slave",
   "metadata": {},
   "source": [
    "* $SE(\\hat\\beta_0)$ = 0.857\n",
    "* $SE(\\hat\\beta_1)$ = 0.007"
   ]
  },
  {
   "cell_type": "markdown",
   "id": "greater-sculpture",
   "metadata": {},
   "source": [
    "Standard formulas\n",
    "\n",
    "$$SE(\\hat\\beta_0)^2 = \\sigma^2 \\left[ \\frac{1}{n} + \\frac{{\\overline{x}}^2}{\\sum_{i = 1}^n{(x_i - \\overline{x})^2}} \\right] $$\n",
    "\n",
    "$$SE(\\hat\\beta_1)^2 = \\frac{\\sigma^2}{\\sum_{i = 1}^n{(x_i - \\overline{x})^2}}$$\n",
    "\n",
    "can be used to compute the standard erros for the regression coefficients in a linear model. These can be obtained using the `summary()` function. "
   ]
  },
  {
   "cell_type": "code",
   "execution_count": 59,
   "id": "optimum-affairs",
   "metadata": {},
   "outputs": [
    {
     "data": {
      "text/html": [
       "<table>\n",
       "<thead><tr><th></th><th scope=col>Estimate</th><th scope=col>Std. Error</th><th scope=col>t value</th><th scope=col>Pr(&gt;|t|)</th></tr></thead>\n",
       "<tbody>\n",
       "\t<tr><th scope=row>(Intercept)</th><td>39.9358610   </td><td>0.717498656  </td><td> 55.65984    </td><td>1.220362e-187</td></tr>\n",
       "\t<tr><th scope=row>horsepower</th><td>-0.1578447   </td><td>0.006445501  </td><td>-24.48914    </td><td> 7.031989e-81</td></tr>\n",
       "</tbody>\n",
       "</table>\n"
      ],
      "text/latex": [
       "\\begin{tabular}{r|llll}\n",
       "  & Estimate & Std. Error & t value & Pr(>\\textbar{}t\\textbar{})\\\\\n",
       "\\hline\n",
       "\t(Intercept) & 39.9358610    & 0.717498656   &  55.65984     & 1.220362e-187\\\\\n",
       "\thorsepower & -0.1578447    & 0.006445501   & -24.48914     &  7.031989e-81\\\\\n",
       "\\end{tabular}\n"
      ],
      "text/markdown": [
       "\n",
       "| <!--/--> | Estimate | Std. Error | t value | Pr(>|t|) |\n",
       "|---|---|---|---|---|\n",
       "| (Intercept) | 39.9358610    | 0.717498656   |  55.65984     | 1.220362e-187 |\n",
       "| horsepower | -0.1578447    | 0.006445501   | -24.48914     |  7.031989e-81 |\n",
       "\n"
      ],
      "text/plain": [
       "            Estimate   Std. Error  t value   Pr(>|t|)     \n",
       "(Intercept) 39.9358610 0.717498656  55.65984 1.220362e-187\n",
       "horsepower  -0.1578447 0.006445501 -24.48914  7.031989e-81"
      ]
     },
     "metadata": {},
     "output_type": "display_data"
    }
   ],
   "source": [
    "summary(lm(mpg ~ horsepower, data = Auto))$coef"
   ]
  },
  {
   "cell_type": "markdown",
   "id": "loving-annual",
   "metadata": {},
   "source": [
    "* $SE(\\hat\\beta_0)$ = 0.717\n",
    "* $SE(\\hat\\beta_1)$ = 0.006"
   ]
  },
  {
   "cell_type": "markdown",
   "id": "dominant-fashion",
   "metadata": {},
   "source": [
    "Interestingly, these coefficients are somewhat differents from the obtained using bootstrap. Does it indicate a problem with the bootstrap? In fact, it suggests just the opposite. Recall that the above standard formulas rely on certain assumptions. For example, they depend on the unknown parameter $\\sigma^2$ the noise variance. We then estimates $\\sigma^2$ using the RSS. Now although the formula for the standard erros do not rely on the linear model being correct, the estimate of $\\sigma^2$  does. In this figure : "
   ]
  },
  {
   "cell_type": "code",
   "execution_count": 63,
   "id": "incorporate-astrology",
   "metadata": {},
   "outputs": [
    {
     "name": "stderr",
     "output_type": "stream",
     "text": [
      "Warning message in plot.window(...):\n",
      "“\"data\" is not a graphical parameter”Warning message in plot.xy(xy, type, ...):\n",
      "“\"data\" is not a graphical parameter”Warning message in axis(side = side, at = at, labels = labels, ...):\n",
      "“\"data\" is not a graphical parameter”Warning message in axis(side = side, at = at, labels = labels, ...):\n",
      "“\"data\" is not a graphical parameter”Warning message in box(...):\n",
      "“\"data\" is not a graphical parameter”Warning message in title(...):\n",
      "“\"data\" is not a graphical parameter”"
     ]
    },
    {
     "data": {
      "image/png": "[encoded data removed]",
      "text/plain": [
       "plot without title"
      ]
     },
     "metadata": {},
     "output_type": "display_data"
    }
   ],
   "source": [
    "plot(mpg, horsepower, data = Auto)"
   ]
  },
  {
   "cell_type": "markdown",
   "id": "subsequent-medication",
   "metadata": {},
   "source": [
    "we can see that there is a non-linear relationship in the data, and so the residuals from a linear fit will be inflated and so will $\\hat\\sigma^2\n",
    "$.\n",
    "\n",
    "Secondly the standard formulas assume (somewhat unrealistic) that the $X_i$ are fixed, and all the variability comes from the variation in the errors $\\epsilon_i$. **The bootstrap does not rely on any of these assumptions, and so it is likely givin a more accurate of the standard erros of $\\hat\\beta_0$ and $\\hat\\beta_1$ than is the `summary()` function.**"
   ]
  },
  {
   "cell_type": "markdown",
   "id": "floppy-facial",
   "metadata": {},
   "source": [
    "Below we compute the bootstrap standard error estimates and the standard lineal regression estimates that result from fitting the quadratic model to the data. Since this model provides a good fit to the data there is  now a better correspondence between the bootstrap estimates and the standard estimates of $SE(\\hat\\beta_0)$, $SE(\\hat\\beta_1)$ and $SE(\\hat\\beta_2)$\n"
   ]
  },
  {
   "cell_type": "code",
   "execution_count": 67,
   "id": "satisfied-following",
   "metadata": {},
   "outputs": [
    {
     "data": {
      "text/plain": [
       "\n",
       "ORDINARY NONPARAMETRIC BOOTSTRAP\n",
       "\n",
       "\n",
       "Call:\n",
       "boot(data = Auto, statistic = boot.fn, R = 1000)\n",
       "\n",
       "\n",
       "Bootstrap Statistics :\n",
       "        original        bias     std. error\n",
       "t1* 56.900099702  3.511640e-02 2.0300222526\n",
       "t2* -0.466189630 -7.080834e-04 0.0324241984\n",
       "t3*  0.001230536  2.840324e-06 0.0001172164"
      ]
     },
     "metadata": {},
     "output_type": "display_data"
    },
    {
     "data": {
      "text/html": [
       "<table>\n",
       "<thead><tr><th></th><th scope=col>Estimate</th><th scope=col>Std. Error</th><th scope=col>t value</th><th scope=col>Pr(&gt;|t|)</th></tr></thead>\n",
       "<tbody>\n",
       "\t<tr><th scope=row>(Intercept)</th><td>56.900099702 </td><td>1.8004268063 </td><td> 31.60367    </td><td>1.740911e-109</td></tr>\n",
       "\t<tr><th scope=row>horsepower</th><td>-0.466189630 </td><td>0.0311246171 </td><td>-14.97816    </td><td> 2.289429e-40</td></tr>\n",
       "\t<tr><th scope=row>I(horsepower^2)</th><td> 0.001230536 </td><td>0.0001220759 </td><td> 10.08009    </td><td> 2.196340e-21</td></tr>\n",
       "</tbody>\n",
       "</table>\n"
      ],
      "text/latex": [
       "\\begin{tabular}{r|llll}\n",
       "  & Estimate & Std. Error & t value & Pr(>\\textbar{}t\\textbar{})\\\\\n",
       "\\hline\n",
       "\t(Intercept) & 56.900099702  & 1.8004268063  &  31.60367     & 1.740911e-109\\\\\n",
       "\thorsepower & -0.466189630  & 0.0311246171  & -14.97816     &  2.289429e-40\\\\\n",
       "\tI(horsepower\\textasciicircum{}2) &  0.001230536  & 0.0001220759  &  10.08009     &  2.196340e-21\\\\\n",
       "\\end{tabular}\n"
      ],
      "text/markdown": [
       "\n",
       "| <!--/--> | Estimate | Std. Error | t value | Pr(>|t|) |\n",
       "|---|---|---|---|---|\n",
       "| (Intercept) | 56.900099702  | 1.8004268063  |  31.60367     | 1.740911e-109 |\n",
       "| horsepower | -0.466189630  | 0.0311246171  | -14.97816     |  2.289429e-40 |\n",
       "| I(horsepower^2) |  0.001230536  | 0.0001220759  |  10.08009     |  2.196340e-21 |\n",
       "\n"
      ],
      "text/plain": [
       "                Estimate     Std. Error   t value   Pr(>|t|)     \n",
       "(Intercept)     56.900099702 1.8004268063  31.60367 1.740911e-109\n",
       "horsepower      -0.466189630 0.0311246171 -14.97816  2.289429e-40\n",
       "I(horsepower^2)  0.001230536 0.0001220759  10.08009  2.196340e-21"
      ]
     },
     "metadata": {},
     "output_type": "display_data"
    }
   ],
   "source": [
    "boot.fn = function(data, index){\n",
    "    return(coef(lm(mpg ~ horsepower + I(horsepower^2), data = data, subset = index)))\n",
    "}\n",
    "set.seed(1)\n",
    "boot(Auto, boot.fn, 1000)\n",
    "\n",
    "summary(lm(mpg ~ horsepower + I(horsepower^2), data = Auto))$coef"
   ]
  }
 ],
 "metadata": {
  "kernelspec": {
   "display_name": "R",
   "language": "R",
   "name": "ir"
  },
  "language_info": {
   "codemirror_mode": "r",
   "file_extension": ".r",
   "mimetype": "text/x-r-source",
   "name": "R",
   "pygments_lexer": "r",
   "version": "3.6.1"
  }
 },
 "nbformat": 4,
 "nbformat_minor": 5
}
