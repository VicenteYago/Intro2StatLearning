{
 "cells": [
  {
   "cell_type": "markdown",
   "id": "foreign-genius",
   "metadata": {},
   "source": [
    "# Section 5.4 Lab: Cross-Validation and the Bootstrap"
   ]
  },
  {
   "cell_type": "markdown",
   "id": "parliamentary-rings",
   "metadata": {},
   "source": [
    "We explore the use of validation set approach in order to estimate the test error rates that result from fitting various linear models on the **Auto** dataset."
   ]
  },
  {
   "cell_type": "code",
   "execution_count": 1,
   "id": "configured-festival",
   "metadata": {},
   "outputs": [],
   "source": [
    "library(ISLR)\n",
    "set.seed(1)"
   ]
  },
  {
   "cell_type": "markdown",
   "id": "collaborative-pattern",
   "metadata": {},
   "source": [
    "We begin using the `sample()` function to split the set of obs into two halves, by selecting a random subset of 196 obs out of the original 392 obs. We refer to these obs as the trainig set."
   ]
  },
  {
   "cell_type": "code",
   "execution_count": 2,
   "id": "pressing-grove",
   "metadata": {},
   "outputs": [],
   "source": [
    "train = sample(392, 196)"
   ]
  },
  {
   "cell_type": "code",
   "execution_count": 3,
   "id": "moved-connectivity",
   "metadata": {},
   "outputs": [],
   "source": [
    "lm.fit = lm(mpg ~ horsepower, data = Auto, subset = train)"
   ]
  },
  {
   "cell_type": "code",
   "execution_count": 4,
   "id": "sixth-conducting",
   "metadata": {},
   "outputs": [],
   "source": [
    "attach(Auto)"
   ]
  },
  {
   "cell_type": "code",
   "execution_count": 8,
   "id": "derived-continent",
   "metadata": {},
   "outputs": [
    {
     "data": {
      "text/html": [
       "23.2660086465003"
      ],
      "text/latex": [
       "23.2660086465003"
      ],
      "text/markdown": [
       "23.2660086465003"
      ],
      "text/plain": [
       "[1] 23.26601"
      ]
     },
     "metadata": {},
     "output_type": "display_data"
    }
   ],
   "source": [
    "mean((mpg - predict(lm.fit, Auto))[-train]^2) "
   ]
  }
 ],
 "metadata": {
  "kernelspec": {
   "display_name": "R",
   "language": "R",
   "name": "ir"
  },
  "language_info": {
   "codemirror_mode": "r",
   "file_extension": ".r",
   "mimetype": "text/x-r-source",
   "name": "R",
   "pygments_lexer": "r",
   "version": "3.6.1"
  }
 },
 "nbformat": 4,
 "nbformat_minor": 5
}
